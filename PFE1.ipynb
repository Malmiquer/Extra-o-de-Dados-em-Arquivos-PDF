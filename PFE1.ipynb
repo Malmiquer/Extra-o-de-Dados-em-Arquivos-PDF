{
  "nbformat": 4,
  "nbformat_minor": 0,
  "metadata": {
    "colab": {
      "provenance": [],
      "authorship_tag": "ABX9TyOduis9+Ny4Ygz5S4yxalTN",
      "include_colab_link": true
    },
    "kernelspec": {
      "name": "python3",
      "display_name": "Python 3"
    },
    "language_info": {
      "name": "python"
    }
  },
  "cells": [
    {
      "cell_type": "markdown",
      "metadata": {
        "id": "view-in-github",
        "colab_type": "text"
      },
      "source": [
        "<a href=\"https://colab.research.google.com/github/Malmiquer/Extra-o-de-Dados-em-Arquivos-PDF/blob/main/PFE1.ipynb\" target=\"_parent\"><img src=\"https://colab.research.google.com/assets/colab-badge.svg\" alt=\"Open In Colab\"/></a>"
      ]
    },
    {
      "cell_type": "code",
      "execution_count": null,
      "metadata": {
        "id": "D4VkY3ULLaF1"
      },
      "outputs": [],
      "source": [
        "import pandas as pd\n",
        "import matplotlib.pyplot as plt\n",
        "import math\n",
        "import plotly.express as px"
      ]
    },
    {
      "cell_type": "code",
      "source": [
        "df = pd.read_excel(r'copie_aqui_o_seu_caminho')"
      ],
      "metadata": {
        "id": "mmjwItsGLd4m"
      },
      "execution_count": null,
      "outputs": []
    },
    {
      "cell_type": "code",
      "source": [
        "df.head()\n",
        "default_test_size = 0.1\n",
        "seed = 42"
      ],
      "metadata": {
        "collapsed": true,
        "id": "-2iKcjQkLd1O"
      },
      "execution_count": null,
      "outputs": []
    },
    {
      "cell_type": "code",
      "source": [
        "a = df.iloc[:, -1].values\n",
        "b = df.iloc[:, -1].values"
      ],
      "metadata": {
        "id": "0WxtkGlALdvm"
      },
      "execution_count": null,
      "outputs": []
    },
    {
      "cell_type": "code",
      "source": [
        "#Substitua aqui os seus dados\n",
        "dados= {\n",
        "    'B_max': df['B dente est'],\n",
        "    'F': df['Frequency'],\n",
        "    'KS': df['KS'],\n",
        "    'Kc1': df['Kc1'],\n",
        "    'Voltage': df['Voltage'],\n",
        "    'Potência': df['Potência'],\n",
        "    'Current': df['Current'],\n",
        "    'Fator': df['Fator'],\n",
        "}"
      ],
      "metadata": {
        "collapsed": true,
        "id": "ffgDk5vfLdsW"
      },
      "execution_count": null,
      "outputs": []
    },
    {
      "cell_type": "code",
      "source": [
        "def calcular_perdas_por_histerese(df, B_max, F, KS):\n",
        "#     \"\"\"\n",
        "#     B_max (str): Densidade de fluxo magnético.\n",
        "#     F (str): Frequência da corrente alternada.\n",
        "#     KS (str): Constante que depende do material do ferro.\n",
        "\n",
        "#     \"\"\"\n",
        "  return df[KS] * (df[B_max] ** 2) * df[F]"
      ],
      "metadata": {
        "collapsed": true,
        "id": "OSRF3lWcLlc2"
      },
      "execution_count": null,
      "outputs": []
    },
    {
      "cell_type": "code",
      "source": [
        "df = pd.DataFrame(dados)\n",
        "df['Perdas_por_Histerese'] = calcular_perdas_por_histerese(df, 'B_max', 'F', 'KS')\n",
        "\n",
        "print(df.head(5))  # Exibe as primeiras 5 linhas do DataFrame"
      ],
      "metadata": {
        "id": "oBGGJxM2LlY_"
      },
      "execution_count": null,
      "outputs": []
    },
    {
      "cell_type": "code",
      "source": [
        "def perdas_por_correntes_parasitas(df, B_max, F, KS):\n",
        "#     \"\"\"\n",
        "#     B_max (str): Densidade de fluxo magnético.\n",
        "#     F (str): Frequência da corrente alternada.\n",
        "#     KS (str): Constante que depende do material do ferro.\n",
        "#     \"\"\"\n",
        "  return df[KS] * (df[B_max] ** 2) * (df[F]**2)\n"
      ],
      "metadata": {
        "id": "G_aCRY40LlVm"
      },
      "execution_count": null,
      "outputs": []
    },
    {
      "cell_type": "code",
      "source": [
        "df = pd.DataFrame(dados)\n",
        "df['perdas_por_correntes_parasitas'] = perdas_por_correntes_parasitas(df, 'B_max', 'F', 'KS')\n",
        "\n",
        "print(df.head(5))"
      ],
      "metadata": {
        "id": "IyYa16akWPri"
      },
      "execution_count": null,
      "outputs": []
    },
    {
      "cell_type": "code",
      "source": [
        "class MotorInducao:\n",
        "    def __init__(self, Voltage, Current, F, Fator, perdas_por_correntes_parasitas, Perdas_por_Histerese): #O método __init__ é um método conhecido como construtor\n",
        "        self.Voltage =  Voltage #self.Voltage: Atribui o valor do parâmetro Voltage ao atributo da instância Voltage, de igual modo para os outros dados\n",
        "        self.Current = Current\n",
        "        self.F = F\n",
        "        self.Fator = Fator\n",
        "        self.perdas_por_correntes_parasitas = perdas_por_correntes_parasitas\n",
        "        self.Perdas_por_Histerese = Perdas_por_Histerese\n",
        "\n",
        "    def calcular_perdas_ferro(self):\n",
        "        perdas_totais = self.perdas_por_correntes_parasitas + self.Perdas_por_Histerese\n",
        "        return perdas_totais\n",
        "\n",
        "\n",
        "    def causas_perdas_ferro(self):\n",
        "        causas = []\n",
        "\n",
        "        if self.Perdas_por_Histerese > 3% Potência:\n",
        "            causas.append(f\"Perdas por histerese: {self.Perdas_por_Histerese} W - causadas pela magnetização e desmagnetização do núcleo do motor.\")\n",
        "\n",
        "        if self.perdas_por_correntes_parasitas > 3% Potência:\n",
        "            causas.append(f\"Perdas por correntes parasitas: {self.perdas_por_correntes_parasitas} W - geradas pela circulação de correntes em caminhos fechados dentro do núcleo de ferro.\")\n",
        "\n",
        "        if self.F > 60:\n",
        "            causas.append(f\"Perdas por saturação do núcleo: Frequência alta ({self.F} Hz) pode levar à saturação magnética do núcleo.\")\n",
        "\n",
        "        if self.Voltage > 220:\n",
        "            causas.append(f\"Perdas por acoplamento magnético: Tensão alta ({self.Voltage} V) pode causar vazamentos de fluxo magnético entre as partes do motor.\")\n",
        "\n",
        "        return causas"
      ],
      "metadata": {
        "id": "LVZ2VRoBWPoK"
      },
      "execution_count": null,
      "outputs": []
    },
    {
      "cell_type": "code",
      "source": [
        "df = pd.DataFrame(dados)\n",
        "df['Perdas_por_Histerese'] = calcular_perdas_por_histerese(df, 'B_max', 'F', 'KS')\n",
        "df['perdas_por_correntes_parasitas'] = perdas_por_correntes_parasitas(df, 'B_max', 'F', 'KS')\n"
      ],
      "metadata": {
        "id": "O-8wcVsKWPlC"
      },
      "execution_count": null,
      "outputs": []
    },
    {
      "cell_type": "code",
      "source": [
        " # Exemplo de uso\n",
        "Voltage = df['Voltage'].iloc[0]\n",
        "current = df['Current'].iloc[0]\n",
        "frequency = df['F'].iloc[0]\n",
        "fator = df['Fator'].iloc[0]\n",
        "Potência = df['Potência'].iloc[0]"
      ],
      "metadata": {
        "id": "1-34KtYIWPiL"
      },
      "execution_count": null,
      "outputs": []
    },
    {
      "cell_type": "code",
      "source": [
        "Perdas_por_correntes_parasitas = df['perdas_por_correntes_parasitas'].iloc[0]\n",
        "Perdas_por_Histerese = df['Perdas_por_Histerese'].iloc[0]"
      ],
      "metadata": {
        "id": "6RKsevQiWcBi"
      },
      "execution_count": null,
      "outputs": []
    },
    {
      "cell_type": "code",
      "source": [
        "motor = MotorInducao(Voltage, current, frequency, fator, Perdas_por_correntes_parasitas, Perdas_por_Histerese)\n",
        "perdas_totais = motor.calcular_perdas_ferro()\n",
        "causas = motor.causas_perdas_ferro()"
      ],
      "metadata": {
        "id": "rQS2CzroWbz6"
      },
      "execution_count": null,
      "outputs": []
    },
    {
      "cell_type": "code",
      "source": [
        "print(f\"Perdas totais de ferro: {perdas_totais} W\")\n",
        "print(\"Principais causas das perdas de ferro:\")\n",
        "for causa in causas:\n",
        "    print(f\"- {causa}\")"
      ],
      "metadata": {
        "id": "5jqlCsGvWh-S"
      },
      "execution_count": null,
      "outputs": []
    },
    {
      "cell_type": "code",
      "source": [
        "from sklearn.pipeline import Pipeline\n",
        "from sklearn.preprocessing import StandardScaler #vai fazer as standarlização dos dados\n",
        "from sklearn.model_selection import train_test_split #vai separar os dados de treinos dos dados reais\n",
        "from sklearn.model_selection import GridSearchCV # vai encontrar os melhores hiper parâmetros do nosso sistema de regressão\n",
        "\n",
        "from sklearn.neighbors import KNeighborsRegressor #metodo de regressão knn"
      ],
      "metadata": {
        "id": "KCxOz6LvWh6a"
      },
      "execution_count": null,
      "outputs": []
    },
    {
      "cell_type": "code",
      "source": [
        "a_train, a_test, b_train, b_test = train_test_split(a, b, test_size=default_test_size, random_state=seed)"
      ],
      "metadata": {
        "id": "85mjHaZaWh0C"
      },
      "execution_count": null,
      "outputs": []
    },
    {
      "cell_type": "code",
      "source": [
        "pipe = Pipeline([\n",
        "    ('scaler', StandardScaler()),\n",
        "    ('regressor', KNeighborsRegressor())\n",
        "    ])"
      ],
      "metadata": {
        "id": "cS55SlNvWhwq"
      },
      "execution_count": null,
      "outputs": []
    },
    {
      "cell_type": "code",
      "source": [
        "hyperparameters = {'regressor__n_neighbors': [2,3,5,10], #tem o andscor(__) duas vezes para permitir procurar os vizinhos, ou seja determina a quantidade de vizinhos\n",
        "                   'regressor__weights': ['uniform','distance'],\n",
        "                   'regressor__algorithm': ['auto','ball_tree', 'kd_tree', 'brute'],\n",
        "                  }"
      ],
      "metadata": {
        "id": "I6w6ynFBWsLt"
      },
      "execution_count": null,
      "outputs": []
    },
    {
      "cell_type": "code",
      "source": [
        "grid_search = GridSearchCV(pipe,\n",
        "                           param_grid=hyperparameters,\n",
        "                           return_train_score=True,\n",
        "                           scoring='neg_root_mean_squared_error',\n",
        "                           n_jobs=-2,\n",
        "                           cv = 5)"
      ],
      "metadata": {
        "id": "f3eXjV3kWsIC"
      },
      "execution_count": null,
      "outputs": []
    },
    {
      "cell_type": "code",
      "source": [
        "a_train_reshaped = a_train.reshape(-1, 1)\n",
        "grid_search.fit(a_train_reshaped, b_train)"
      ],
      "metadata": {
        "id": "gG3c8nTXWsE6"
      },
      "execution_count": null,
      "outputs": []
    },
    {
      "cell_type": "code",
      "source": [
        "# Print Best Hyperparameters\n",
        "cv_best_params = grid_search.best_params_\n",
        "print('\\n Best hyperparameters:')\n",
        "print(cv_best_params)"
      ],
      "metadata": {
        "id": "1_MrVEMiWsBy"
      },
      "execution_count": null,
      "outputs": []
    },
    {
      "cell_type": "code",
      "source": [
        "pipe.set_params(**cv_best_params)"
      ],
      "metadata": {
        "id": "5Xo7HcpDWr4q"
      },
      "execution_count": null,
      "outputs": []
    },
    {
      "cell_type": "code",
      "source": [
        "pipe.get_params()"
      ],
      "metadata": {
        "collapsed": true,
        "id": "twGfJ6u5W3zS"
      },
      "execution_count": null,
      "outputs": []
    },
    {
      "cell_type": "code",
      "source": [
        "pipe.fit(a_train_reshaped, b_train)"
      ],
      "metadata": {
        "id": "slbgWf7mW3wK"
      },
      "execution_count": null,
      "outputs": []
    },
    {
      "cell_type": "code",
      "source": [
        "b_test_pred = pipe.predict(a_test.reshape(-1, 1))"
      ],
      "metadata": {
        "id": "hrOfV57PW3sS"
      },
      "execution_count": null,
      "outputs": []
    },
    {
      "cell_type": "code",
      "source": [
        "a_test"
      ],
      "metadata": {
        "id": "JzG4ViL9XFHK"
      },
      "execution_count": null,
      "outputs": []
    },
    {
      "cell_type": "code",
      "source": [
        "##Calculando r^2\n",
        "from sklearn.metrics import mean_squared_error, mean_absolute_error, mean_absolute_percentage_error, r2_score"
      ],
      "metadata": {
        "id": "vMf1X_-IXLfq"
      },
      "execution_count": null,
      "outputs": []
    },
    {
      "cell_type": "code",
      "source": [
        "# Análise dos erros das previsões\n",
        "rmse_test = math.sqrt(mean_squared_error(b_test, b_test_pred))\n",
        "mae_test = mean_absolute_error(b_test, b_test_pred)\n",
        "mape_test = mean_absolute_percentage_error(b_test, b_test_pred)\n",
        "r2_test = r2_score(b_test, b_test_pred)\n",
        "\n",
        "df_metricas = pd.DataFrame(data={'RSME':[rmse_test], 'MAE':[mae_test], 'MAPE':[mape_test],'R²':[r2_test]})\n",
        "df_metricas"
      ],
      "metadata": {
        "id": "2y-JlNYaXLcy"
      },
      "execution_count": null,
      "outputs": []
    },
    {
      "cell_type": "code",
      "source": [
        "## Comparando os valores Reais dos valores Preditos\n",
        "b_pred = pd.DataFrame(data=pipe.predict(a_test.reshape(-1, 1)), columns=['Predicted Values'])\n",
        "b_real = pd.DataFrame(data=b_test, columns=['Real Values'])"
      ],
      "metadata": {
        "id": "e3iUKASSXLWa"
      },
      "execution_count": null,
      "outputs": []
    },
    {
      "cell_type": "code",
      "source": [
        "# Preparation of the comparative DataFrame between the prediction and the actual value\n",
        "df_comparison = pd.concat([b_real, b_pred],axis=1)\n",
        "df_comparison.columns = ['Real_Data','Predicted_Value']\n",
        "df_comparison['Percentage_difference'] = 100*(df_comparison['Predicted_Value'] - df_comparison['Real_Data'])/df_comparison['Real_Data']\n",
        "df_comparison['Average'] = df_comparison['Real_Data'].mean()\n",
        "df_comparison['Q1'] = df_comparison['Real_Data'].quantile(0.25)\n",
        "df_comparison['Q3'] = df_comparison['Real_Data'].quantile(0.75)\n",
        "df_comparison['USL'] = df_comparison['Real_Data'].mean() + 2*df_comparison['Real_Data'].std()\n",
        "df_comparison['LSL'] = df_comparison['Real_Data'].mean() - 2*df_comparison['Real_Data'].std()\n",
        "\n",
        "df_comparison.sort_index(inplace=True)\n",
        "df_comparison"
      ],
      "metadata": {
        "id": "93AOelNJXLTC"
      },
      "execution_count": null,
      "outputs": []
    },
    {
      "cell_type": "code",
      "source": [
        "# Graphic visualization of predictions by real values\n",
        "plt.figure(figsize=(25,10))\n",
        "plt.title('Real Value vs Predicted Value', fontsize=25)\n",
        "plt.plot(df_comparison.index, df_comparison['Real_Data'], label = 'Real', marker='D', markersize=10, linewidth=0)\n",
        "plt.plot(df_comparison.index, df_comparison['Predicted_Value'], label = 'Predicted', c='r', linewidth=1.5)\n",
        "plt.plot(df_comparison.index, df_comparison['Average'], label = 'Mean', linestyle='dashed', c='yellow')\n",
        "plt.plot(df_comparison.index, df_comparison['Q1'], label = 'Q1', linestyle='dashed',c='g')\n",
        "plt.plot(df_comparison.index, df_comparison['Q3'], label = 'Q3', linestyle='dashed',c='g')\n",
        "\n",
        "plt.plot(df_comparison.index, df_comparison['USL'], label = 'USL', linestyle='dashed',c='r')\n",
        "plt.plot(df_comparison.index, df_comparison['LSL'], label = 'LSL', linestyle='dashed',c='r')\n",
        "\n",
        "plt.legend(loc='best')\n",
        "plt.legend(fontsize=25)\n",
        "plt.xticks(fontsize=20)\n",
        "plt.yticks(fontsize=20)\n",
        "\n",
        "plt.show()"
      ],
      "metadata": {
        "collapsed": true,
        "id": "Iwy9AzuHXLNa"
      },
      "execution_count": null,
      "outputs": []
    },
    {
      "cell_type": "code",
      "source": [
        "# Graphic visualization of predictions by real values\n",
        "plt.figure(figsize=(25,10))\n",
        "plt.title('Real Value vs Predicted Value',fontsize=25)\n",
        "plt.scatter(df_comparison['Real_Data'], df_comparison['Predicted_Value'], s=100)\n",
        "plt.plot(df_comparison['Real_Data'],df_comparison['Real_Data'],c='r')\n",
        "\n",
        "plt.xlabel('Real', fontsize=25)\n",
        "plt.ylabel('Predicted', fontsize=25)\n",
        "plt.xticks(fontsize=20)\n",
        "plt.yticks(fontsize=20)\n",
        "\n",
        "plt.show()"
      ],
      "metadata": {
        "collapsed": true,
        "id": "PX_HG_WFXbh6"
      },
      "execution_count": null,
      "outputs": []
    },
    {
      "cell_type": "code",
      "source": [
        "# Comparação entre as perdas\n",
        "import pandas as pd\n",
        "import matplotlib.pyplot as plt"
      ],
      "metadata": {
        "id": "ON86m0ZqXbes"
      },
      "execution_count": null,
      "outputs": []
    },
    {
      "cell_type": "code",
      "source": [
        "# Verificar onde os valores em 'Perdas_por_Histerese' são maiores que em 'perdas_por_correntes_parasitas'\n",
        "# df['coluna_comparacao'] = df['Perdas_por_Histerese'] > df['perdas_por_correntes_parasitas']\n",
        "df['coluna_comparacao'] = df['Potência'] > df['perdas_por_correntes_parasitas']"
      ],
      "metadata": {
        "id": "0Sa3TApGXbbK"
      },
      "execution_count": null,
      "outputs": []
    },
    {
      "cell_type": "code",
      "source": [
        "# Gráfico de barras\n",
        "# df[['Perdas_por_Histerese', 'perdas_por_correntes_parasitas']].plot(kind='bar', figsize=(20, 6))\n",
        "df[['Potência', 'perdas_por_correntes_parasitas']].plot(kind='bar', figsize=(20, 6))\n",
        "# plt.title('Comparação entre Perdas_por_Histerese e perdas_por_correntes_parasitas')\n",
        "plt.title('Comparação entre Potência e perdas_por_correntes_parasitas')\n",
        "plt.xlabel('Índice')\n",
        "plt.ylabel('Valores')\n",
        "\n",
        "plt.show()"
      ],
      "metadata": {
        "collapsed": true,
        "id": "pQaNWG2EXbUa"
      },
      "execution_count": null,
      "outputs": []
    },
    {
      "cell_type": "code",
      "source": [
        "df['coluna_comparacao'] = df['Potência'] > df['Perdas_por_Histerese']\n",
        "df[['Potência', 'Perdas_por_Histerese']].plot(kind='bar', figsize=(20, 6))\n",
        "plt.title('Comparação entre Potência e Perdas_por_Histerese')\n",
        "plt.xlabel('Índice')\n",
        "plt.ylabel('Valores')\n",
        "\n",
        "plt.show()"
      ],
      "metadata": {
        "collapsed": true,
        "id": "6489RqUnXbQi"
      },
      "execution_count": null,
      "outputs": []
    },
    {
      "cell_type": "code",
      "source": [
        "# Função para anotar as diferenças e causas\n",
        "def annotate_differences_and_causes(ax, df):\n",
        "    for i in df.index:\n",
        "        if df['Perdas_por_Histerese'][i] != df['perdas_por_correntes_parasitas'][i]:\n",
        "            diff = df['Perdas_por_Histerese'][i] - df['perdas_por_correntes_parasitas'][i]\n",
        "            cause = 'Causa: Ajuste de parâmetros' if diff > 0 else 'Causa: Variação de material'\n",
        "            ax.annotate(f'Dif.: {diff:.2f}\\n{cause}',\n",
        "                        xy=(i, max(df['Perdas_por_Histerese'][i], df['perdas_por_correntes_parasitas'][i])),\n",
        "                        xytext=(i, max(df['Perdas_por_Histerese'][i], df['perdas_por_correntes_parasitas'][i]) + 0.5),\n",
        "                        arrowprops=dict(facecolor='black', shrink=0.05), fontsize=8)\n",
        "\n",
        "    # Gráfico de comparação\n",
        "plt.figure(figsize=(10, 6))"
      ],
      "metadata": {
        "id": "utPiWicuXnlT"
      },
      "execution_count": null,
      "outputs": []
    },
    {
      "cell_type": "code",
      "source": [
        "# Plotando as três séries de dados\n",
        "plt.plot(df['Perdas_por_Histerese'], label='Perdas_por_Histerese', marker='o')\n",
        "plt.plot(df['perdas_por_correntes_parasitas'], label='perdas_por_correntes_parasitas', marker='x')\n",
        "#plt.plot(df['Perda Newton com fator'], label='Perda Newton com fator', marker='s')\n",
        "\n",
        "# Preenchendo entre as séries de dados\n",
        "plt.fill_between(df.index, df['Perdas_por_Histerese'], df['perdas_por_correntes_parasitas'],\n",
        "                 where=(df['Perdas_por_Histerese'] > df['perdas_por_correntes_parasitas']),\n",
        "                 facecolor='green', alpha=0.3, interpolate=True)\n",
        "plt.fill_between(df.index, df['Perdas_por_Histerese'], df['perdas_por_correntes_parasitas'],\n",
        "                 where=(df['Perdas_por_Histerese'] <= df['perdas_por_correntes_parasitas']),\n",
        "                 facecolor='red', alpha=0.3, interpolate=True)\n",
        "\n",
        "# Configurações do gráfico\n",
        "plt.title('Comparação Gráfica entre Perdas_por_Histerese e perdas_por_correntes_parasitas')\n",
        "plt.xlabel('Índice')\n",
        "plt.ylabel('Valores')\n",
        "plt.legend()\n",
        "plt.show()"
      ],
      "metadata": {
        "collapsed": true,
        "id": "untzxjo0Xnda"
      },
      "execution_count": null,
      "outputs": []
    }
  ]
}